{
 "cells": [
  {
   "cell_type": "markdown",
   "id": "250abfba-f520-4512-a98e-c0810343f49f",
   "metadata": {},
   "source": [
    "# 1. Data Collection"
   ]
  },
  {
   "cell_type": "markdown",
   "id": "abaed7c0-4810-4ff7-ad2e-94ad82e2af05",
   "metadata": {},
   "source": [
    "## 1.1 Load Necessary libraries"
   ]
  },
  {
   "cell_type": "code",
   "execution_count": null,
   "id": "85e72a40-cf38-49c3-8da5-98932b875c5b",
   "metadata": {},
   "outputs": [],
   "source": [
    "import pandas as pd\n",
    "from sklearn.model_selection import train_test_split, GridSearchCV\n",
    "from sklearn.preprocessing import StandardScaler\n",
    "from sklearn.linear_model import LogisticRegression\n",
    "from sklearn.ensemble import RandomForestClassifier\n",
    "from sklearn.metrics import accuracy_score, precision_score, recall_score, f1_score ,classification_report, confusion_matrix, roc_auc_score\n",
    "import matplotlib.pyplot as plt\n",
    "import seaborn as sns"
   ]
  },
  {
   "cell_type": "markdown",
   "id": "27889749-34d4-47fb-ab81-e41c4cb7cb50",
   "metadata": {},
   "source": [
    "## 1.2 Load The Data from csv"
   ]
  },
  {
   "cell_type": "code",
   "execution_count": null,
   "id": "1fd72d47-e22f-4f21-8a8f-e7934d3474ad",
   "metadata": {},
   "outputs": [],
   "source": [
    "# Load the dataset\n",
    "data = pd.read_csv('weatherAUS.csv')\n",
    "data.describe(include='all')\n",
    "\n",
    "# Check the columns\n",
    "print(data.columns.tolist())  # This will confirm the names\n",
    "\n",
    "# Inspect the data\n",
    "print(data.info())\n",
    "print(data.describe())\n",
    "print(data.isnull().sum())\n"
   ]
  },
  {
   "cell_type": "markdown",
   "id": "5dbf3f8e-0d5a-4360-8532-2e48f6779d1b",
   "metadata": {},
   "source": [
    "# 2. Data Cleaning & Preparation"
   ]
  },
  {
   "cell_type": "markdown",
   "id": "0a7128b1-bab3-49e7-8024-10ccb2d63cea",
   "metadata": {},
   "source": [
    "## 2.1 Handling The Missing Values & Feature Engineering"
   ]
  },
  {
   "cell_type": "code",
   "execution_count": null,
   "id": "9da69216-7339-423d-b1ee-5333582b60ee",
   "metadata": {},
   "outputs": [],
   "source": [
    "# Drop rows with missing target\n",
    "data.dropna(subset=['RainTomorrow'], inplace=True)\n",
    "\n",
    "# Fill missing values for numerical columns with mean and categorical with mode\n",
    "for column in data.columns:\n",
    "    if data[column].isnull().any():\n",
    "        if data[column].dtype == 'object':\n",
    "            data[column] = data[column].fillna(data[column].mode()[0])  # Fill categorical with mode\n",
    "        else:\n",
    "            data[column] = data[column].fillna(data[column].mean())  # Fill numerical with mean\n",
    "\n",
    "\n",
    "# Convert categorical features to dummy variables\n",
    "data = pd.get_dummies(data, columns=['Location', 'WindGustDir', 'WindDir9am', 'WindDir3pm'], drop_first=True)\n",
    "\n",
    "# Convert date column and extract features (into month and day columns)\n",
    "data['Date'] = pd.to_datetime(data['Date'])\n",
    "data['month'] = data['Date'].dt.month\n",
    "data['day'] = data['Date'].dt.dayofweek\n",
    "\n",
    "# Define features and target\n",
    "X = data.drop(['RainTomorrow', 'Date'], axis=1)  # Features\n",
    "y = data['RainTomorrow']\n",
    "\n",
    "# Scale numerical features\n",
    "scaler = StandardScaler()\n",
    "X[X.select_dtypes(include=['float64', 'int64']).columns] = scaler.fit_transform(X.select_dtypes(include=['float64', 'int64']))\n",
    "\n",
    "# Check the data types in X\n",
    "print(\"Data types in X:\")\n",
    "print(X.dtypes)\n",
    "\n",
    "# Identify non-numeric columns (check before dropping)\n",
    "non_numeric_columns = X.select_dtypes(exclude=['number']).columns.tolist()\n",
    "if non_numeric_columns:\n",
    "  print(\"Non-numeric columns detected:\", non_numeric_columns)\n",
    "  X.drop(columns=non_numeric_columns, inplace=True)\n",
    "\n",
    "# Check for NaN values in features\n",
    "print(\"Missing values in X:\")\n",
    "print(X.isnull().sum())\n",
    "\n",
    "# Drop rows with NaN values in features\n",
    "X.dropna(inplace=True)\n",
    "\n",
    "# Align y with the filtered X\n",
    "y = y[X.index]\n",
    "\n",
    "# Ensure all columns in X are numeric\n",
    "if not all(X.dtypes.apply(lambda x: pd.api.types.is_numeric_dtype(x))):\n",
    "    raise ValueError(\"There are still non-numeric columns in X.\")\n",
    "\n",
    "# Split the data\n",
    "X_train, X_test, y_train, y_test = train_test_split(X, y, test_size=0.2, random_state=42)\n"
   ]
  },
  {
   "cell_type": "markdown",
   "id": "a7b5b759-decc-4862-9498-b5dcb963e2a8",
   "metadata": {},
   "source": [
    "# 3. Algorithm Understanding Model Development"
   ]
  },
  {
   "cell_type": "code",
   "execution_count": null,
   "id": "c50fe2a5-c056-4cfb-bdc2-15bfed4f952b",
   "metadata": {},
   "outputs": [],
   "source": [
    "# Initialize model\n",
    "model = RandomForestClassifier()\n",
    "\n",
    "# Define parameter grid\n",
    "param_grid = {\n",
    "    'n_estimators': [100, 200],\n",
    "    'max_depth': [None, 10, 20],\n",
    "}\n",
    "\n",
    "# Grid Search\n",
    "grid_search = GridSearchCV(model, param_grid, cv=5)\n",
    "grid_search.fit(X_train, y_train)\n",
    "\n",
    "# Get the best model\n",
    "best_model = grid_search.best_estimator_\n",
    "\n",
    "# Print the best parameters\n",
    "print(\"Best parameters found: \", grid_search.best_params_)\n"
   ]
  },
  {
   "cell_type": "code",
   "execution_count": null,
   "id": "450fdeff-fa67-46e5-af84-69fdf8e534f1",
   "metadata": {},
   "outputs": [],
   "source": [
    "# Make predictions\n",
    "y_pred = best_model.predict(X_test)\n",
    "\n",
    "# Evaluate model\n",
    "print(confusion_matrix(y_test, y_pred))\n",
    "print(classification_report(y_test, y_pred))\n",
    "\n"
   ]
  },
  {
   "cell_type": "code",
   "execution_count": null,
   "id": "e1dc06a4-e458-41e9-99f5-07d999ea97e6",
   "metadata": {},
   "outputs": [],
   "source": [
    "# Calculate and print additional evaluation metrics\n",
    "roc_auc = roc_auc_score(y_test, best_model.predict_proba(X_test)[:, 1])\n",
    "print(f\"ROC AUC Score: {roc_auc:.4f}\")\n"
   ]
  },
  {
   "cell_type": "code",
   "execution_count": null,
   "id": "8be47dd3-9b47-44c2-8dd4-4cd2e8f5cbe6",
   "metadata": {},
   "outputs": [],
   "source": [
    "# Visualize confusion matrix\n",
    "cm = confusion_matrix(y_test, y_pred)\n",
    "sns.heatmap(cm, annot=True, fmt='d', cmap='Blues')\n",
    "plt.xlabel('Predicted')\n",
    "plt.ylabel('True')\n",
    "plt.title('Confusion Matrix')\n",
    "plt.show()"
   ]
  }
 ],
 "metadata": {
  "kernelspec": {
   "display_name": "Python 3 (ipykernel)",
   "language": "python",
   "name": "python3"
  },
  "language_info": {
   "codemirror_mode": {
    "name": "ipython",
    "version": 3
   },
   "file_extension": ".py",
   "mimetype": "text/x-python",
   "name": "python",
   "nbconvert_exporter": "python",
   "pygments_lexer": "ipython3",
   "version": "3.12.4"
  }
 },
 "nbformat": 4,
 "nbformat_minor": 5
}
