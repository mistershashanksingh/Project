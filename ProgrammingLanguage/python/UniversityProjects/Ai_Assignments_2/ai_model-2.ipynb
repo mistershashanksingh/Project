{
 "cells": [
  {
   "cell_type": "markdown",
   "id": "250abfba-f520-4512-a98e-c0810343f49f",
   "metadata": {},
   "source": [
    "# 1. Data Collection"
   ]
  },
  {
   "cell_type": "markdown",
   "id": "abaed7c0-4810-4ff7-ad2e-94ad82e2af05",
   "metadata": {},
   "source": [
    "## 1.1 Load Necessary libraries"
   ]
  },
  {
   "cell_type": "code",
   "execution_count": 2,
   "id": "85e72a40-cf38-49c3-8da5-98932b875c5b",
   "metadata": {},
   "outputs": [],
   "source": [
    "import pandas as pd\n",
    "from sklearn.model_selection import train_test_split, GridSearchCV\n",
    "from sklearn.preprocessing import StandardScaler\n",
    "from sklearn.linear_model import LogisticRegression\n",
    "from sklearn.ensemble import RandomForestClassifier\n",
    "from sklearn.metrics import accuracy_score, precision_score, recall_score, f1_score ,classification_report, confusion_matrix, roc_auc_score\n",
    "import matplotlib.pyplot as plt\n",
    "import seaborn as sns"
   ]
  },
  {
   "cell_type": "markdown",
   "id": "27889749-34d4-47fb-ab81-e41c4cb7cb50",
   "metadata": {},
   "source": [
    "## 1.2 Load The Data from csv"
   ]
  },
  {
   "cell_type": "code",
   "execution_count": 3,
   "id": "1fd72d47-e22f-4f21-8a8f-e7934d3474ad",
   "metadata": {},
   "outputs": [
    {
     "name": "stdout",
     "output_type": "stream",
     "text": [
      "['Date', 'Location', 'MinTemp', 'MaxTemp', 'Rainfall', 'Evaporation', 'Sunshine', 'WindGustDir', 'WindGustSpeed', 'WindDir9am', 'WindDir3pm', 'WindSpeed9am', 'WindSpeed3pm', 'Humidity9am', 'Humidity3pm', 'Pressure9am', 'Pressure3pm', 'Cloud9am', 'Cloud3pm', 'Temp9am', 'Temp3pm', 'RainToday', 'RISK_MM', 'RainTomorrow']\n",
      "<class 'pandas.core.frame.DataFrame'>\n",
      "RangeIndex: 142193 entries, 0 to 142192\n",
      "Data columns (total 24 columns):\n",
      " #   Column         Non-Null Count   Dtype  \n",
      "---  ------         --------------   -----  \n",
      " 0   Date           142193 non-null  object \n",
      " 1   Location       142193 non-null  object \n",
      " 2   MinTemp        141556 non-null  float64\n",
      " 3   MaxTemp        141871 non-null  float64\n",
      " 4   Rainfall       140787 non-null  float64\n",
      " 5   Evaporation    81350 non-null   float64\n",
      " 6   Sunshine       74377 non-null   float64\n",
      " 7   WindGustDir    132863 non-null  object \n",
      " 8   WindGustSpeed  132923 non-null  float64\n",
      " 9   WindDir9am     132180 non-null  object \n",
      " 10  WindDir3pm     138415 non-null  object \n",
      " 11  WindSpeed9am   140845 non-null  float64\n",
      " 12  WindSpeed3pm   139563 non-null  float64\n",
      " 13  Humidity9am    140419 non-null  float64\n",
      " 14  Humidity3pm    138583 non-null  float64\n",
      " 15  Pressure9am    128179 non-null  float64\n",
      " 16  Pressure3pm    128212 non-null  float64\n",
      " 17  Cloud9am       88536 non-null   float64\n",
      " 18  Cloud3pm       85099 non-null   float64\n",
      " 19  Temp9am        141289 non-null  float64\n",
      " 20  Temp3pm        139467 non-null  float64\n",
      " 21  RainToday      140787 non-null  object \n",
      " 22  RISK_MM        142193 non-null  float64\n",
      " 23  RainTomorrow   142193 non-null  object \n",
      "dtypes: float64(17), object(7)\n",
      "memory usage: 26.0+ MB\n",
      "None\n",
      "             MinTemp        MaxTemp       Rainfall   Evaporation  \\\n",
      "count  141556.000000  141871.000000  140787.000000  81350.000000   \n",
      "mean       12.186400      23.226784       2.349974      5.469824   \n",
      "std         6.403283       7.117618       8.465173      4.188537   \n",
      "min        -8.500000      -4.800000       0.000000      0.000000   \n",
      "25%         7.600000      17.900000       0.000000      2.600000   \n",
      "50%        12.000000      22.600000       0.000000      4.800000   \n",
      "75%        16.800000      28.200000       0.800000      7.400000   \n",
      "max        33.900000      48.100000     371.000000    145.000000   \n",
      "\n",
      "           Sunshine  WindGustSpeed   WindSpeed9am   WindSpeed3pm  \\\n",
      "count  74377.000000  132923.000000  140845.000000  139563.000000   \n",
      "mean       7.624853      39.984292      14.001988      18.637576   \n",
      "std        3.781525      13.588801       8.893337       8.803345   \n",
      "min        0.000000       6.000000       0.000000       0.000000   \n",
      "25%        4.900000      31.000000       7.000000      13.000000   \n",
      "50%        8.500000      39.000000      13.000000      19.000000   \n",
      "75%       10.600000      48.000000      19.000000      24.000000   \n",
      "max       14.500000     135.000000     130.000000      87.000000   \n",
      "\n",
      "         Humidity9am    Humidity3pm    Pressure9am    Pressure3pm  \\\n",
      "count  140419.000000  138583.000000  128179.000000  128212.000000   \n",
      "mean       68.843810      51.482606    1017.653758    1015.258204   \n",
      "std        19.051293      20.797772       7.105476       7.036677   \n",
      "min         0.000000       0.000000     980.500000     977.100000   \n",
      "25%        57.000000      37.000000    1012.900000    1010.400000   \n",
      "50%        70.000000      52.000000    1017.600000    1015.200000   \n",
      "75%        83.000000      66.000000    1022.400000    1020.000000   \n",
      "max       100.000000     100.000000    1041.000000    1039.600000   \n",
      "\n",
      "           Cloud9am      Cloud3pm        Temp9am        Temp3pm        RISK_MM  \n",
      "count  88536.000000  85099.000000  141289.000000  139467.000000  142193.000000  \n",
      "mean       4.437189      4.503167      16.987509      21.687235       2.360682  \n",
      "std        2.887016      2.720633       6.492838       6.937594       8.477969  \n",
      "min        0.000000      0.000000      -7.200000      -5.400000       0.000000  \n",
      "25%        1.000000      2.000000      12.300000      16.600000       0.000000  \n",
      "50%        5.000000      5.000000      16.700000      21.100000       0.000000  \n",
      "75%        7.000000      7.000000      21.600000      26.400000       0.800000  \n",
      "max        9.000000      9.000000      40.200000      46.700000     371.000000  \n",
      "Date                 0\n",
      "Location             0\n",
      "MinTemp            637\n",
      "MaxTemp            322\n",
      "Rainfall          1406\n",
      "Evaporation      60843\n",
      "Sunshine         67816\n",
      "WindGustDir       9330\n",
      "WindGustSpeed     9270\n",
      "WindDir9am       10013\n",
      "WindDir3pm        3778\n",
      "WindSpeed9am      1348\n",
      "WindSpeed3pm      2630\n",
      "Humidity9am       1774\n",
      "Humidity3pm       3610\n",
      "Pressure9am      14014\n",
      "Pressure3pm      13981\n",
      "Cloud9am         53657\n",
      "Cloud3pm         57094\n",
      "Temp9am            904\n",
      "Temp3pm           2726\n",
      "RainToday         1406\n",
      "RISK_MM              0\n",
      "RainTomorrow         0\n",
      "dtype: int64\n"
     ]
    }
   ],
   "source": [
    "# Load the dataset\n",
    "data = pd.read_csv('weatherAUS.csv')\n",
    "data.describe(include='all')\n",
    "\n",
    "# Check the columns\n",
    "print(data.columns.tolist())  # This will confirm the names\n",
    "\n",
    "# Inspect the data\n",
    "print(data.info())\n",
    "print(data.describe())\n",
    "print(data.isnull().sum())\n"
   ]
  },
  {
   "cell_type": "markdown",
   "id": "5dbf3f8e-0d5a-4360-8532-2e48f6779d1b",
   "metadata": {},
   "source": [
    "# 2. Data Cleaning & Preparation"
   ]
  },
  {
   "cell_type": "markdown",
   "id": "0a7128b1-bab3-49e7-8024-10ccb2d63cea",
   "metadata": {},
   "source": [
    "##  Handling The Missing Values & Feature Engineering"
   ]
  },
  {
   "cell_type": "code",
   "execution_count": 4,
   "id": "9da69216-7339-423d-b1ee-5333582b60ee",
   "metadata": {},
   "outputs": [
    {
     "name": "stdout",
     "output_type": "stream",
     "text": [
      "Data types in X:\n",
      "MinTemp           float64\n",
      "MaxTemp           float64\n",
      "Rainfall          float64\n",
      "Evaporation       float64\n",
      "Sunshine          float64\n",
      "                   ...   \n",
      "WindDir3pm_W         bool\n",
      "WindDir3pm_WNW       bool\n",
      "WindDir3pm_WSW       bool\n",
      "month               int32\n",
      "day                 int32\n",
      "Length: 113, dtype: object\n",
      "Non-numeric columns detected: ['RainToday', 'Location_Albany', 'Location_Albury', 'Location_AliceSprings', 'Location_BadgerysCreek', 'Location_Ballarat', 'Location_Bendigo', 'Location_Brisbane', 'Location_Cairns', 'Location_Canberra', 'Location_Cobar', 'Location_CoffsHarbour', 'Location_Dartmoor', 'Location_Darwin', 'Location_GoldCoast', 'Location_Hobart', 'Location_Katherine', 'Location_Launceston', 'Location_Melbourne', 'Location_MelbourneAirport', 'Location_Mildura', 'Location_Moree', 'Location_MountGambier', 'Location_MountGinini', 'Location_Newcastle', 'Location_Nhil', 'Location_NorahHead', 'Location_NorfolkIsland', 'Location_Nuriootpa', 'Location_PearceRAAF', 'Location_Penrith', 'Location_Perth', 'Location_PerthAirport', 'Location_Portland', 'Location_Richmond', 'Location_Sale', 'Location_SalmonGums', 'Location_Sydney', 'Location_SydneyAirport', 'Location_Townsville', 'Location_Tuggeranong', 'Location_Uluru', 'Location_WaggaWagga', 'Location_Walpole', 'Location_Watsonia', 'Location_Williamtown', 'Location_Witchcliffe', 'Location_Wollongong', 'Location_Woomera', 'WindGustDir_ENE', 'WindGustDir_ESE', 'WindGustDir_N', 'WindGustDir_NE', 'WindGustDir_NNE', 'WindGustDir_NNW', 'WindGustDir_NW', 'WindGustDir_S', 'WindGustDir_SE', 'WindGustDir_SSE', 'WindGustDir_SSW', 'WindGustDir_SW', 'WindGustDir_W', 'WindGustDir_WNW', 'WindGustDir_WSW', 'WindDir9am_ENE', 'WindDir9am_ESE', 'WindDir9am_N', 'WindDir9am_NE', 'WindDir9am_NNE', 'WindDir9am_NNW', 'WindDir9am_NW', 'WindDir9am_S', 'WindDir9am_SE', 'WindDir9am_SSE', 'WindDir9am_SSW', 'WindDir9am_SW', 'WindDir9am_W', 'WindDir9am_WNW', 'WindDir9am_WSW', 'WindDir3pm_ENE', 'WindDir3pm_ESE', 'WindDir3pm_N', 'WindDir3pm_NE', 'WindDir3pm_NNE', 'WindDir3pm_NNW', 'WindDir3pm_NW', 'WindDir3pm_S', 'WindDir3pm_SE', 'WindDir3pm_SSE', 'WindDir3pm_SSW', 'WindDir3pm_SW', 'WindDir3pm_W', 'WindDir3pm_WNW', 'WindDir3pm_WSW']\n",
      "Missing values in X:\n",
      "MinTemp          0\n",
      "MaxTemp          0\n",
      "Rainfall         0\n",
      "Evaporation      0\n",
      "Sunshine         0\n",
      "WindGustSpeed    0\n",
      "WindSpeed9am     0\n",
      "WindSpeed3pm     0\n",
      "Humidity9am      0\n",
      "Humidity3pm      0\n",
      "Pressure9am      0\n",
      "Pressure3pm      0\n",
      "Cloud9am         0\n",
      "Cloud3pm         0\n",
      "Temp9am          0\n",
      "Temp3pm          0\n",
      "RISK_MM          0\n",
      "month            0\n",
      "day              0\n",
      "dtype: int64\n"
     ]
    }
   ],
   "source": [
    "# Drop rows with missing target\n",
    "data.dropna(subset=['RainTomorrow'], inplace=True)\n",
    "\n",
    "# Fill missing values for numerical columns with mean and categorical with mode\n",
    "for column in data.columns:\n",
    "    if data[column].isnull().any():\n",
    "        if data[column].dtype == 'object':\n",
    "            data[column] = data[column].fillna(data[column].mode()[0])  # Fill categorical with mode\n",
    "        else:\n",
    "            data[column] = data[column].fillna(data[column].mean())  # Fill numerical with mean\n",
    "\n",
    "\n",
    "# Convert categorical features to dummy variables\n",
    "data = pd.get_dummies(data, columns=['Location', 'WindGustDir', 'WindDir9am', 'WindDir3pm'], drop_first=True)\n",
    "\n",
    "# Convert date column and extract features (into month and day columns)\n",
    "data['Date'] = pd.to_datetime(data['Date'])\n",
    "data['month'] = data['Date'].dt.month\n",
    "data['day'] = data['Date'].dt.dayofweek\n",
    "\n",
    "# Define features and target\n",
    "X = data.drop(['RainTomorrow', 'Date'], axis=1)  # Features\n",
    "y = data['RainTomorrow']\n",
    "\n",
    "# Scale numerical features\n",
    "scaler = StandardScaler()\n",
    "X[X.select_dtypes(include=['float64', 'int64']).columns] = scaler.fit_transform(X.select_dtypes(include=['float64', 'int64']))\n",
    "\n",
    "# Check the data types in X\n",
    "print(\"Data types in X:\")\n",
    "print(X.dtypes)\n",
    "\n",
    "# Identify non-numeric columns (check before dropping)\n",
    "non_numeric_columns = X.select_dtypes(exclude=['number']).columns.tolist()\n",
    "if non_numeric_columns:\n",
    "  print(\"Non-numeric columns detected:\", non_numeric_columns)\n",
    "  X.drop(columns=non_numeric_columns, inplace=True)\n",
    "\n",
    "# Check for NaN values in features\n",
    "print(\"Missing values in X:\")\n",
    "print(X.isnull().sum())\n",
    "\n",
    "# Drop rows with NaN values in features\n",
    "X.dropna(inplace=True)\n",
    "\n",
    "# Align y with the filtered X\n",
    "y = y[X.index]\n",
    "\n",
    "# Ensure all columns in X are numeric\n",
    "if not all(X.dtypes.apply(lambda x: pd.api.types.is_numeric_dtype(x))):\n",
    "    raise ValueError(\"There are still non-numeric columns in X.\")\n",
    "\n",
    "# Split the data\n",
    "X_train, X_test, y_train, y_test = train_test_split(X, y, test_size=0.2, random_state=42)\n"
   ]
  },
  {
   "cell_type": "markdown",
   "id": "a7b5b759-decc-4862-9498-b5dcb963e2a8",
   "metadata": {},
   "source": [
    "# 3. Algorithm Understanding Model Development"
   ]
  },
  {
   "cell_type": "code",
   "execution_count": 5,
   "id": "c50fe2a5-c056-4cfb-bdc2-15bfed4f952b",
   "metadata": {},
   "outputs": [
    {
     "name": "stdout",
     "output_type": "stream",
     "text": [
      "Best parameters found:  {'max_depth': None, 'n_estimators': 100}\n"
     ]
    }
   ],
   "source": [
    "# Initialize model\n",
    "model = RandomForestClassifier()\n",
    "\n",
    "# Define parameter grid\n",
    "param_grid = {\n",
    "    'n_estimators': [100, 200],\n",
    "    'max_depth': [None, 10, 20],\n",
    "}\n",
    "\n",
    "# Grid Search\n",
    "grid_search = GridSearchCV(model, param_grid, cv=5)\n",
    "grid_search.fit(X_train, y_train)\n",
    "\n",
    "# Get the best model\n",
    "best_model = grid_search.best_estimator_\n",
    "\n",
    "# Print the best parameters\n",
    "print(\"Best parameters found: \", grid_search.best_params_)\n"
   ]
  },
  {
   "cell_type": "markdown",
   "id": "3b080cd3-6be0-4216-a1fc-1017e6ed5099",
   "metadata": {},
   "source": [
    "# 4. Model Evaluation"
   ]
  },
  {
   "cell_type": "code",
   "execution_count": 6,
   "id": "450fdeff-fa67-46e5-af84-69fdf8e534f1",
   "metadata": {},
   "outputs": [
    {
     "name": "stdout",
     "output_type": "stream",
     "text": [
      "[[22098     0]\n",
      " [    0  6341]]\n",
      "              precision    recall  f1-score   support\n",
      "\n",
      "          No       1.00      1.00      1.00     22098\n",
      "         Yes       1.00      1.00      1.00      6341\n",
      "\n",
      "    accuracy                           1.00     28439\n",
      "   macro avg       1.00      1.00      1.00     28439\n",
      "weighted avg       1.00      1.00      1.00     28439\n",
      "\n",
      "ROC AUC Score: 1.0000\n"
     ]
    },
    {
     "data": {
      "image/png": "[encoded data removed]",
      "text/plain": [
       "<Figure size 640x480 with 2 Axes>"
      ]
     },
     "metadata": {},
     "output_type": "display_data"
    }
   ],
   "source": [
    "# Make predictions\n",
    "y_pred = best_model.predict(X_test)\n",
    "\n",
    "# Evaluate model\n",
    "print(confusion_matrix(y_test, y_pred))\n",
    "print(classification_report(y_test, y_pred))\n",
    "\n",
    "# Calculate and print additional evaluation metrics\n",
    "roc_auc = roc_auc_score(y_test, best_model.predict_proba(X_test)[:, 1])\n",
    "print(f\"ROC AUC Score: {roc_auc:.4f}\")\n",
    "\n",
    "# Visualize confusion matrix\n",
    "cm = confusion_matrix(y_test, y_pred)\n",
    "sns.heatmap(cm, annot=True, fmt='d', cmap='Blues')\n",
    "plt.xlabel('Predicted')\n",
    "plt.ylabel('True')\n",
    "plt.title('Confusion Matrix')\n",
    "plt.show()"
   ]
  }
 ],
 "metadata": {
  "kernelspec": {
   "display_name": "Python 3",
   "language": "python",
   "name": "python3"
  },
  "language_info": {
   "codemirror_mode": {
    "name": "ipython",
    "version": 3
   },
   "file_extension": ".py",
   "mimetype": "text/x-python",
   "name": "python",
   "nbconvert_exporter": "python",
   "pygments_lexer": "ipython3",
   "version": "3.12.4"
  }
 },
 "nbformat": 4,
 "nbformat_minor": 5
}
